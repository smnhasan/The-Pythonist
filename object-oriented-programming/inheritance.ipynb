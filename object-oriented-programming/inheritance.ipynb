{
 "cells": [
  {
   "cell_type": "markdown",
   "id": "4aad71fb75cfb2d0",
   "metadata": {},
   "source": [
    "# Inheritance"
   ]
  },
  {
   "cell_type": "code",
   "id": "82800eddf0f2ebde",
   "metadata": {
    "jupyter": {
     "is_executing": true
    }
   },
   "source": [
    "from abc import ABC, abstractmethod\n",
    "from datetime import datetime\n",
    "import random\n",
    "\n",
    "# Abstract base class for all vehicles\n",
    "class Vehicle(ABC):\n",
    "    def __init__(self, make: str, model: str, year: int):\n",
    "        self.make = make\n",
    "        self.model = model\n",
    "        self.year = year\n",
    "        self.mileage = 0\n",
    "        self.is_running = False\n",
    "        self.serial_number = f\"{make[:2]}{random.randint(10000, 99999)}\"\n",
    "\n",
    "    @abstractmethod\n",
    "    def calculate_maintenance_cost(self) -> float:\n",
    "        \"\"\"Abstract method that must be implemented by all subclasses\"\"\"\n",
    "        pass\n",
    "\n",
    "    def start_engine(self) -> str:\n",
    "        self.is_running = True\n",
    "        return f\"{self.make} {self.model} engine started\"\n",
    "\n",
    "    def stop_engine(self) -> str:\n",
    "        self.is_running = False\n",
    "        return f\"{self.make} {self.model} engine stopped\"\n",
    "\n",
    "    def __str__(self) -> str:\n",
    "        return f\"{self.year} {self.make} {self.model} (SN: {self.serial_number})\"\n",
    "\n"
   ],
   "outputs": [],
   "execution_count": null
  },
  {
   "cell_type": "code",
   "execution_count": 8,
   "id": "b38574a21ebf629a",
   "metadata": {},
   "outputs": [],
   "source": [
    "# Interface-like class for electric vehicles\n",
    "class ElectricVehicleInterface(ABC):\n",
    "    @abstractmethod\n",
    "    def charge_battery(self) -> str:\n",
    "        pass\n",
    "\n",
    "    @abstractmethod\n",
    "    def get_battery_range(self) -> int:\n",
    "        pass\n"
   ]
  },
  {
   "cell_type": "code",
   "execution_count": 9,
   "id": "d953067323969082",
   "metadata": {},
   "outputs": [],
   "source": [
    "\n",
    "# Base class for land vehicles\n",
    "class LandVehicle(Vehicle):\n",
    "    def __init__(self, make: str, model: str, year: int, num_wheels: int):\n",
    "        super().__init__(make, model, year)\n",
    "        self.num_wheels = num_wheels\n",
    "        self.last_service_date = datetime.now()\n",
    "\n",
    "    def drive(self, distance: float) -> str:\n",
    "        if self.is_running:\n",
    "            self.mileage += distance\n",
    "            return f\"Drove {distance} miles. Total mileage: {self.mileage}\"\n",
    "        return \"Start the engine first!\"\n",
    "\n",
    "    def calculate_maintenance_cost(self) -> float:\n",
    "        # Base maintenance cost calculation\n",
    "        base_cost = 100.0\n",
    "        mileage_factor = self.mileage * 0.05\n",
    "        age_factor = (datetime.now().year - self.year) * 50\n",
    "        return base_cost + mileage_factor + age_factor\n"
   ]
  },
  {
   "cell_type": "code",
   "execution_count": 10,
   "id": "65749395dadad69b",
   "metadata": {},
   "outputs": [],
   "source": [
    "\n",
    "# Concrete class for cars with multiple inheritance\n",
    "class ElectricCar(LandVehicle, ElectricVehicleInterface):\n",
    "    def __init__(self, make: str, model: str, year: int, battery_capacity: float):\n",
    "        super().__init__(make, model, year, num_wheels=4)\n",
    "        self.battery_capacity = battery_capacity  # in kWh\n",
    "        self.battery_level = 100.0  # percentage\n",
    "        self.range_per_charge = 300  # miles\n",
    "\n",
    "    def charge_battery(self) -> str:\n",
    "        if self.battery_level < 100:\n",
    "            self.battery_level = 100\n",
    "            return \"Battery fully charged\"\n",
    "        return \"Battery already full\"\n",
    "\n",
    "    def get_battery_range(self) -> int:\n",
    "        return int(self.range_per_charge * (self.battery_level / 100))\n",
    "\n",
    "    # Override parent method\n",
    "    def drive(self, distance: float) -> str:\n",
    "        if not self.is_running:\n",
    "            return \"Start the engine first!\"\n",
    "\n",
    "        range_left = self.get_battery_range()\n",
    "        if distance > range_left:\n",
    "            return f\"Insufficient range! Only {range_left} miles remaining\"\n",
    "\n",
    "        self.mileage += distance\n",
    "        self.battery_level -= (distance / self.range_per_charge) * 100\n",
    "        return f\"Drove {distance} miles. Battery: {self.battery_level:.1f}%\"\n",
    "\n",
    "    # Override abstract method with specific implementation\n",
    "    def calculate_maintenance_cost(self) -> float:\n",
    "        base_cost = super().calculate_maintenance_cost()\n",
    "        battery_cost = self.battery_capacity * 10  # Additional cost for battery maintenance\n",
    "        return base_cost + battery_cost\n"
   ]
  },
  {
   "cell_type": "code",
   "execution_count": 11,
   "id": "5b394309c9c9f76c",
   "metadata": {},
   "outputs": [],
   "source": [
    "\n",
    "# Concrete class for motorcycles\n",
    "class Motorcycle(LandVehicle):\n",
    "    def __init__(self, make: str, model: str, year: int, has_sidecar: bool = False):\n",
    "        super().__init__(make, model, year, num_wheels=3 if has_sidecar else 2)\n",
    "        self.has_sidecar = has_sidecar\n",
    "\n",
    "    # Override parent method with specific behavior\n",
    "    def calculate_maintenance_cost(self) -> float:\n",
    "        base_cost = super().calculate_maintenance_cost()\n",
    "        sidecar_cost = 150.0 if self.has_sidecar else 0\n",
    "        return base_cost * 0.8 + sidecar_cost  # Motorcycles generally cheaper to maintain\n"
   ]
  },
  {
   "cell_type": "code",
   "execution_count": 12,
   "id": "29fa73d5bc5332cb",
   "metadata": {},
   "outputs": [
    {
     "name": "stdout",
     "output_type": "stream",
     "text": [
      "2022 Tesla Model 3 (SN: Te92521)\n",
      "Tesla Model 3 engine started\n",
      "Drove 100 miles. Battery: 66.7%\n",
      "Range remaining: 200 miles\n",
      "Maintenance cost: $1005.00\n",
      "Battery fully charged\n",
      "\n",
      "2021 Harley-Davidson Sportster (SN: Ha62400)\n",
      "Harley-Davidson Sportster engine started\n",
      "Drove 50 miles. Total mileage: 50\n",
      "Maintenance cost: $392.00\n"
     ]
    }
   ],
   "source": [
    "\n",
    "# Demonstration\n",
    "def main():\n",
    "    # Create instances\n",
    "    tesla = ElectricCar(\"Tesla\", \"Model 3\", 2022, battery_capacity=75.0)\n",
    "    harley = Motorcycle(\"Harley-Davidson\", \"Sportster\", 2021, has_sidecar=True)\n",
    "\n",
    "    # Test ElectricCar\n",
    "    print(tesla)\n",
    "    print(tesla.start_engine())\n",
    "    print(tesla.drive(100))\n",
    "    print(f\"Range remaining: {tesla.get_battery_range()} miles\")\n",
    "    print(f\"Maintenance cost: ${tesla.calculate_maintenance_cost():.2f}\")\n",
    "    print(tesla.charge_battery())\n",
    "    print()\n",
    "\n",
    "    # Test Motorcycle\n",
    "    print(harley)\n",
    "    print(harley.start_engine())\n",
    "    print(harley.drive(50))\n",
    "    print(f\"Maintenance cost: ${harley.calculate_maintenance_cost():.2f}\")\n",
    "\n",
    "if __name__ == \"__main__\":\n",
    "    main()"
   ]
  }
 ],
 "metadata": {
  "kernelspec": {
   "display_name": "base",
   "language": "python",
   "name": "python3"
  },
  "language_info": {
   "codemirror_mode": {
    "name": "ipython",
    "version": 3
   },
   "file_extension": ".py",
   "mimetype": "text/x-python",
   "name": "python",
   "nbconvert_exporter": "python",
   "pygments_lexer": "ipython3",
   "version": "3.10.15"
  }
 },
 "nbformat": 5,
 "nbformat_minor": 9
}
